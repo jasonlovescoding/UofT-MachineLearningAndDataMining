{
 "cells": [
  {
   "cell_type": "code",
   "execution_count": 1,
   "metadata": {
    "collapsed": true
   },
   "outputs": [],
   "source": [
    "import numpy as np \n",
    "\n",
    "from sklearn.datasets import fetch_mldata\n",
    "import matplotlib.pyplot as plt\n",
    "\n",
    "np.random.seed(1847)\n",
    "\n",
    "class BatchSampler(object):\n",
    "    '''\n",
    "    A (very) simple wrapper to randomly sample batches without replacement.\n",
    "\n",
    "    You shouldn't need to touch this.\n",
    "    '''\n",
    "    \n",
    "    def __init__(self, data, targets, batch_size):\n",
    "        self.num_points = data.shape[0]\n",
    "        self.features = data.shape[1]\n",
    "        self.batch_size = batch_size\n",
    "\n",
    "        self.data = data\n",
    "        self.targets = targets\n",
    "\n",
    "        self.indices = np.arange(self.num_points)\n",
    "\n",
    "    def random_batch_indices(self, m=None):\n",
    "        '''\n",
    "        Get random batch indices without replacement from the dataset.\n",
    "\n",
    "        If m is given the batch will be of size m. Otherwise will default to the class initialized value.\n",
    "        '''\n",
    "        if m is None:\n",
    "            indices = np.random.choice(self.indices, self.batch_size, replace=False)\n",
    "        else:\n",
    "            indices = np.random.choice(self.indices, m, replace=False)\n",
    "        return indices \n",
    "\n",
    "    def get_batch(self, m=None):\n",
    "        '''\n",
    "        Get a random batch without replacement from the dataset.\n",
    "\n",
    "        If m is given the batch will be of size m. Otherwise will default to the class initialized value.\n",
    "        '''\n",
    "        indices = self.random_batch_indices(m)\n",
    "        X_batch = np.take(self.data, indices, 0)\n",
    "        y_batch = self.targets[indices]\n",
    "        return X_batch, y_batch  "
   ]
  },
  {
   "cell_type": "code",
   "execution_count": 2,
   "metadata": {
    "collapsed": true
   },
   "outputs": [],
   "source": [
    "class GDOptimizer(object):\n",
    "    '''\n",
    "    A gradient descent optimizer with momentum\n",
    "    '''\n",
    "\n",
    "    def __init__(self, lr, beta=0.0):\n",
    "        self.lr = lr\n",
    "        self.beta = beta\n",
    "        self.delta = 0\n",
    "        \n",
    "    def update_params(self, params, grad):\n",
    "        # Update parameters using GD with momentum and return\n",
    "        # the updated parameters\n",
    "        delta = -self.lr * grad + self.beta * self.delta\n",
    "        self.delta = delta\n",
    "        return params + delta"
   ]
  },
  {
   "cell_type": "code",
   "execution_count": 258,
   "metadata": {},
   "outputs": [],
   "source": [
    "class SVM(object):\n",
    "    '''\n",
    "    A Support Vector Machine\n",
    "    '''\n",
    "\n",
    "    def __init__(self, c, feature_count):\n",
    "        self.c = c\n",
    "        self.w = np.random.normal(0.0, 0.1, feature_count)\n",
    "        \n",
    "    def hinge_loss(self, X, y):\n",
    "        '''\n",
    "        Compute the hinge-loss for input data X (shape (n, m)) with target y (shape (n,)).\n",
    "\n",
    "        Returns a length-n vector containing the hinge-loss per data point.\n",
    "        '''\n",
    "        # Implement hinge loss\n",
    "        loss = 1 - y * (np.dot(X, self.w))\n",
    "        loss[loss <= 0] = 0\n",
    "        return loss\n",
    "\n",
    "    def grad(self, X, y):\n",
    "        '''\n",
    "        Compute the gradient of the SVM objective for input data X (shape (n, m))\n",
    "        with target y (shape (n,))\n",
    "\n",
    "        Returns the gradient with respect to the SVM parameters (shape (m,)).\n",
    "        '''\n",
    "        # Compute (sub-)gradient of SVM objective\n",
    "        loss = 1 - y * (np.dot(X, self.w))\n",
    "        idx = np.where(loss > 0)[0]\n",
    "        y_miss = y[idx]\n",
    "        X_miss = X[idx]\n",
    "        penalty = np.mean(y_miss.reshape(y_miss.shape[0], 1) * X_miss, axis=0)\n",
    "        w = np.insert(self.w[1:], 0, 0) # exclude bias term\n",
    "        return w - self.c * penalty\n",
    "\n",
    "    def classify(self, X):\n",
    "        '''\n",
    "        Classify new input data matrix (shape (n,m)).\n",
    "\n",
    "        Returns the predicted class labels (shape (n,))\n",
    "        '''\n",
    "        # Classify points as +1 or -1\n",
    "        pred = np.dot(X, self.w)\n",
    "        pred[pred > 0] = 1\n",
    "        pred[pred <= 0] = -1\n",
    "        return pred"
   ]
  },
  {
   "cell_type": "code",
   "execution_count": 259,
   "metadata": {
    "collapsed": true
   },
   "outputs": [],
   "source": [
    "def load_data():\n",
    "    '''\n",
    "    Load MNIST data (4 and 9 only) and split into train and test\n",
    "    '''\n",
    "    mnist = fetch_mldata('MNIST original', data_home='./data')\n",
    "    label_4 = (mnist.target == 4)\n",
    "    label_9 = (mnist.target == 9)\n",
    "\n",
    "    data_4, targets_4 = mnist.data[label_4], np.ones(np.sum(label_4))\n",
    "    data_9, targets_9 = mnist.data[label_9], -np.ones(np.sum(label_9))\n",
    "\n",
    "    data = np.concatenate([data_4, data_9], 0)\n",
    "    data = data / 255.0\n",
    "    targets = np.concatenate([targets_4, targets_9], 0)\n",
    "\n",
    "    permuted = np.random.permutation(data.shape[0])\n",
    "    train_size = int(np.floor(data.shape[0] * 0.8))\n",
    "\n",
    "    train_data, train_targets = data[permuted[:train_size]], targets[permuted[:train_size]]\n",
    "    test_data, test_targets = data[permuted[train_size:]], targets[permuted[train_size:]]\n",
    "    print(\"Data Loaded\")\n",
    "    print(\"Train size: {}\".format(train_size))\n",
    "    print(\"Test size: {}\".format(data.shape[0] - train_size))\n",
    "    print(\"-------------------------------\")\n",
    "    # add bias term\n",
    "    train_data = np.insert(train_data, 0, 1, axis=1)\n",
    "    test_data = np.insert(test_data, 0, 1, axis=1)\n",
    "    return train_data, train_targets, test_data, test_targets"
   ]
  },
  {
   "cell_type": "code",
   "execution_count": 260,
   "metadata": {
    "collapsed": true
   },
   "outputs": [],
   "source": [
    "def optimize_test_function(optimizer, w_init=10.0, steps=200):\n",
    "    '''\n",
    "    Optimize the simple quadratic test function and return the parameter history.\n",
    "    '''\n",
    "    def func(x):\n",
    "        return 0.01 * x * x\n",
    "\n",
    "    def func_grad(x):\n",
    "        return 0.02 * x\n",
    "\n",
    "    w = w_init\n",
    "    w_history = [w_init]\n",
    "    \n",
    "    for _ in range(steps):\n",
    "        # Optimize and update the history\n",
    "        w = optimizer.update_params(w, func_grad(w))\n",
    "        w_history.append(w)\n",
    "    return w_history"
   ]
  },
  {
   "cell_type": "code",
   "execution_count": 261,
   "metadata": {
    "collapsed": true
   },
   "outputs": [],
   "source": [
    "def optimize_svm(train_data, train_targets, penalty, optimizer, batch_size, iters):\n",
    "    '''\n",
    "    Optimize the SVM with the given hyperparameters. Return the trained SVM.\n",
    "    '''\n",
    "    sampler = BatchSampler(train_data, train_targets, batch_size)\n",
    "    svm = SVM(penalty, train_data.shape[1])\n",
    "    for _ in range(iters):\n",
    "        X, y = sampler.get_batch()\n",
    "        grad = svm.grad(X, y)\n",
    "        svm.w = optimizer.update_params(svm.w, grad)\n",
    "    return svm"
   ]
  },
  {
   "cell_type": "code",
   "execution_count": 262,
   "metadata": {},
   "outputs": [
    {
     "name": "stdout",
     "output_type": "stream",
     "text": [
      "lr = 1.0, beta = 0.0, w0 = 10.0, steps = 200, final w: 0.17587946605721566\n",
      "lr = 1.0, beta = 0.9, w0 = 10.0, steps = 200, final w: -2.0665349231570765e-05\n"
     ]
    }
   ],
   "source": [
    "optimizer = GDOptimizer(lr = 1.0, beta = 0.0)\n",
    "print('lr = 1.0, beta = 0.0, w0 = 10.0, steps = 200, final w: ' + str(optimize_test_function(optimizer)[-1]))\n",
    "optimizer = GDOptimizer(lr = 1.0, beta = 0.9)\n",
    "print('lr = 1.0, beta = 0.9, w0 = 10.0, steps = 200, final w: ' + str(optimize_test_function(optimizer)[-1]))"
   ]
  },
  {
   "cell_type": "code",
   "execution_count": 263,
   "metadata": {},
   "outputs": [
    {
     "name": "stdout",
     "output_type": "stream",
     "text": [
      "Data Loaded\n",
      "Train size: 11025\n",
      "Test size: 2757\n",
      "-------------------------------\n"
     ]
    }
   ],
   "source": [
    "X_train, y_train, X_test, y_test = load_data()"
   ]
  },
  {
   "cell_type": "code",
   "execution_count": 310,
   "metadata": {},
   "outputs": [
    {
     "name": "stdout",
     "output_type": "stream",
     "text": [
      "alpha = 0.05, C = 1.0, m = 100, T = 500, beta = 0.0\n",
      "training accuracy: 0.9172789115646258, test accuracy: 0.9133115705476967\n",
      "training loss: 0.30070056132858464, \n",
      "test loss: 0.30457613737347705\n"
     ]
    },
    {
     "data": {
      "image/png": "[encoded data removed]",
      "text/plain": [
       "<matplotlib.figure.Figure at 0x114bcacc0>"
      ]
     },
     "metadata": {},
     "output_type": "display_data"
    }
   ],
   "source": [
    "optimizer = GDOptimizer(lr = 0.05, beta = 0.0)\n",
    "svm = optimize_svm(X_train, y_train, 1.0, optimizer, 100, 500)\n",
    "y_pred = svm.classify(X_train)\n",
    "train_acc = (y_pred == y_train).mean()\n",
    "train_loss = svm.hinge_loss(X_train, y_train)\n",
    "y_pred = svm.classify(X_test)\n",
    "test_acc = (y_pred == y_test).mean()\n",
    "test_loss = svm.hinge_loss(X_test, y_test)\n",
    "print('alpha = 0.05, C = 1.0, m = 100, T = 500, beta = 0.0')\n",
    "print('training accuracy: {}, test accuracy: {}'.format(train_acc, test_acc))\n",
    "print('training loss: {}, \\ntest loss: {}'.format(np.mean(train_loss), np.mean(test_loss)))\n",
    "plt.imshow(svm.w[1:].reshape(28, 28), cmap='gray')\n",
    "plt.show()"
   ]
  },
  {
   "cell_type": "code",
   "execution_count": 332,
   "metadata": {},
   "outputs": [
    {
     "name": "stdout",
     "output_type": "stream",
     "text": [
      "alpha = 0.05, C = 1.0, m = 100, T = 500, beta = 0.1\n",
      "training accuracy: 0.927891156462585, test accuracy: 0.9220166848023214\n",
      "training loss: 0.29247342549848304, \n",
      "test loss: 0.29536689916718345\n"
     ]
    },
    {
     "data": {
      "image/png": "[encoded data removed]",
      "text/plain": [
       "<matplotlib.figure.Figure at 0x10f889550>"
      ]
     },
     "metadata": {},
     "output_type": "display_data"
    }
   ],
   "source": [
    "optimizer = GDOptimizer(lr = 0.05, beta = 0.1)\n",
    "svm = optimize_svm(X_train, y_train, 1.0, optimizer, 100, 500)\n",
    "y_pred = svm.classify(X_train)\n",
    "train_acc = (y_pred == y_train).mean()\n",
    "train_loss = svm.hinge_loss(X_train, y_train)\n",
    "y_pred = svm.classify(X_test)\n",
    "test_acc = (y_pred == y_test).mean()\n",
    "test_loss = svm.hinge_loss(X_test, y_test)\n",
    "print('alpha = 0.05, C = 1.0, m = 100, T = 500, beta = 0.1')\n",
    "print('training accuracy: {}, test accuracy: {}'.format(train_acc, test_acc))\n",
    "print('training loss: {}, \\ntest loss: {}'.format(np.mean(train_loss), np.mean(test_loss)))\n",
    "plt.imshow(svm.w[1:].reshape(28, 28), cmap='gray')\n",
    "plt.show()"
   ]
  }
 ],
 "metadata": {
  "kernelspec": {
   "display_name": "Python 3",
   "language": "python",
   "name": "python3"
  },
  "language_info": {
   "codemirror_mode": {
    "name": "ipython",
    "version": 3
   },
   "file_extension": ".py",
   "mimetype": "text/x-python",
   "name": "python",
   "nbconvert_exporter": "python",
   "pygments_lexer": "ipython3",
   "version": "3.6.1"
  }
 },
 "nbformat": 4,
 "nbformat_minor": 2
}
