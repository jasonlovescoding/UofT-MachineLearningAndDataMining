{
 "cells": [
  {
   "cell_type": "code",
   "execution_count": 13,
   "metadata": {
    "collapsed": true
   },
   "outputs": [],
   "source": [
    "'''\n",
    "Question 2.0 Skeleton Code\n",
    "\n",
    "Here you should load the data and plot\n",
    "the means for each of the digit classes.\n",
    "'''\n",
    "\n",
    "import data\n",
    "import numpy as np\n",
    "# Import pyplot - plt.imshow is useful!\n",
    "import matplotlib.pyplot as plt\n",
    "\n",
    "def plot_means(train_data, train_labels):\n",
    "    means = []\n",
    "    for i in range(0, 10):\n",
    "        i_digits = data.get_digits_by_label(train_data, train_labels, i)\n",
    "        # Compute mean of class i\n",
    "        means.append(np.mean(i_digits, axis=0).reshape(8, 8))\n",
    "    # Plot all means on same axis\n",
    "    all_concat = np.concatenate(means, 1)\n",
    "    plt.imshow(all_concat, cmap='gray')\n",
    "    plt.show()"
   ]
  },
  {
   "cell_type": "code",
   "execution_count": 14,
   "metadata": {},
   "outputs": [
    {
     "data": {
      "image/png": "[encoded data removed]",
      "text/plain": [
       "<matplotlib.figure.Figure at 0x11042e320>"
      ]
     },
     "metadata": {},
     "output_type": "display_data"
    }
   ],
   "source": [
    "if __name__ == '__main__':\n",
    "    train_data, train_labels, _, _ = data.load_all_data_from_zip('a2digits.zip', 'data')\n",
    "    plot_means(train_data, train_labels)"
   ]
  }
 ],
 "metadata": {
  "kernelspec": {
   "display_name": "Python 3",
   "language": "python",
   "name": "python3"
  },
  "language_info": {
   "codemirror_mode": {
    "name": "ipython",
    "version": 3
   },
   "file_extension": ".py",
   "mimetype": "text/x-python",
   "name": "python",
   "nbconvert_exporter": "python",
   "pygments_lexer": "ipython3",
   "version": "3.6.1"
  }
 },
 "nbformat": 4,
 "nbformat_minor": 2
}
