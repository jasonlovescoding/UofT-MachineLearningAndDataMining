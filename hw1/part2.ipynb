{
 "cells": [
  {
   "cell_type": "code",
   "execution_count": 1,
   "metadata": {
    "collapsed": true
   },
   "outputs": [],
   "source": [
    "from __future__ import print_function\n",
    "import matplotlib.pyplot as plt\n",
    "import numpy as np\n",
    "import scipy as sp\n",
    "from sklearn.datasets import load_boston\n",
    "np.random.seed(0)"
   ]
  },
  {
   "cell_type": "code",
   "execution_count": 2,
   "metadata": {
    "collapsed": true
   },
   "outputs": [],
   "source": [
    "# load boston housing prices dataset\n",
    "boston = load_boston()\n",
    "x = boston['data']\n",
    "N = x.shape[0]\n",
    "x = np.concatenate((np.ones((506,1)),x),axis=1) #add constant one feature - no bias needed\n",
    "d = x.shape[1]\n",
    "y = boston['target']\n",
    "\n",
    "idx = np.random.permutation(range(N))"
   ]
  },
  {
   "cell_type": "code",
   "execution_count": 3,
   "metadata": {
    "collapsed": true
   },
   "outputs": [],
   "source": [
    "#helper function\n",
    "def l2(A,B):\n",
    "    '''\n",
    "    Input: A is a Nxd matrix\n",
    "           B is a Mxd matirx\n",
    "    Output: dist is a NxM matrix where dist[i,j] is the square norm between A[i,:] and B[j,:]\n",
    "    i.e. dist[i,j] = ||A[i,:]-B[j,:]||^2\n",
    "    '''\n",
    "    A_norm = (A**2).sum(axis=1).reshape(A.shape[0],1)\n",
    "    B_norm = (B**2).sum(axis=1).reshape(1,B.shape[0])\n",
    "    dist = A_norm+B_norm-2*A.dot(B.transpose())\n",
    "    return dist"
   ]
  },
  {
   "cell_type": "code",
   "execution_count": 4,
   "metadata": {
    "collapsed": true
   },
   "outputs": [],
   "source": [
    "#helper function\n",
    "def run_on_fold(x_test, y_test, x_train, y_train, taus):\n",
    "    '''\n",
    "    Input: x_test is the N_test x d design matrix\n",
    "           y_test is the N_test x 1 targets vector        \n",
    "           x_train is the N_train x d design matrix\n",
    "           y_train is the N_train x 1 targets vector\n",
    "           taus is a vector of tau values to evaluate\n",
    "    output: losses a vector of average losses one for each tau value\n",
    "    '''\n",
    "    N_test = x_test.shape[0]\n",
    "    losses = np.zeros(taus.shape)\n",
    "    for j,tau in enumerate(taus):\n",
    "        predictions =  np.array([LRLS(x_test[i,:].reshape(1,d),x_train,y_train, tau) \\\n",
    "                        for i in range(N_test)])\n",
    "        losses[j] = ((predictions-y_test)**2).mean()\n",
    "    return losses"
   ]
  },
  {
   "cell_type": "code",
   "execution_count": 5,
   "metadata": {
    "collapsed": true
   },
   "outputs": [],
   "source": [
    "#to implement\n",
    "def LRLS(test_datum, x_train, y_train, tau, lam=1e-5):\n",
    "    '''\n",
    "    Input: test_datum is a d x 1 test vector ? (from run_on_fold, it should be 1 x d)?\n",
    "           x_train is the N_train x d design matrix\n",
    "           y_train is the N_train x 1 targets vector\n",
    "           tau is the local reweighting parameter\n",
    "           lam is the regularization parameter\n",
    "    output is y_hat the prediction on test_datum\n",
    "    '''\n",
    "    # test_datum = test_datum.T\n",
    "    weights = l2(x_train, test_datum)\n",
    "    weights = - weights / (2 * tau**2)\n",
    "    weights = np.exp(weights - sp.misc.logsumexp((weights)))\n",
    "    \n",
    "    N_train = x_train.shape[0]\n",
    "    A = np.zeros([N_train, N_train])\n",
    "    for i in range(N_train):\n",
    "        A[i, i] = weights[i]\n",
    "    \n",
    "    design = x_train.T.dot(A).dot(x_train)\n",
    "    offset = lam * np.identity(x_train.shape[1])\n",
    "    predict = x_train.T.dot(A).dot(y_train)\n",
    "    \n",
    "    w = np.linalg.solve(design + offset, predict)\n",
    "    y_hat = test_datum.dot(w)\n",
    "    return y_hat"
   ]
  },
  {
   "cell_type": "code",
   "execution_count": 6,
   "metadata": {
    "collapsed": true
   },
   "outputs": [],
   "source": [
    "def run_k_fold(x, y, taus, k):\n",
    "    '''\n",
    "    Input: x is the N x d design matrix\n",
    "           y is the N x 1 targets vector    \n",
    "           taus is a vector of tau values to evaluate\n",
    "           K in the number of folds\n",
    "    output is losses a vector of k-fold cross validation losses one for each tau value\n",
    "    '''\n",
    "    N = x.shape[0]\n",
    "    stride = N // k\n",
    "    start = 0\n",
    "    losses = []\n",
    "    while start < N:\n",
    "        end = min(start + stride, N)\n",
    "        test_indices = idx[start:end]\n",
    "        train_indices = np.append(idx[0:start], idx[end:N])\n",
    "        \n",
    "        x_test = x[test_indices]\n",
    "        y_test = y[test_indices]\n",
    "        x_train = x[train_indices]\n",
    "        y_train = y[train_indices]\n",
    "        losses.append(run_on_fold(x_test, y_test, x_train, y_train, taus))\n",
    "        start += stride\n",
    "    \n",
    "    losses = np.array(losses)\n",
    "    return np.mean(losses, axis=0)"
   ]
  },
  {
   "cell_type": "code",
   "execution_count": 9,
   "metadata": {},
   "outputs": [
    {
     "data": {
      "image/png": "[encoded data removed]",
      "text/plain": [
       "<matplotlib.figure.Figure at 0x104aae2b0>"
      ]
     },
     "metadata": {},
     "output_type": "display_data"
    },
    {
     "name": "stdout",
     "output_type": "stream",
     "text": [
      "min loss = 122.74883420654332\n"
     ]
    }
   ],
   "source": [
    "# In this excersice we fixed lambda (hard coded to 1e-5) and only set tau value. \n",
    "# Feel free to play with lambda as well if you wish\n",
    "taus = np.logspace(1.0,3,200)\n",
    "losses = run_k_fold(x,y,taus,k=5)\n",
    "plt.plot(taus, losses)\n",
    "plt.xlabel('taus')\n",
    "plt.ylabel('loss')\n",
    "plt.show()\n",
    "print(\"min loss = {}\".format(losses.min()))"
   ]
  },
  {
   "cell_type": "code",
   "execution_count": null,
   "metadata": {
    "collapsed": true
   },
   "outputs": [],
   "source": []
  }
 ],
 "metadata": {
  "kernelspec": {
   "display_name": "Python 3",
   "language": "python",
   "name": "python3"
  },
  "language_info": {
   "codemirror_mode": {
    "name": "ipython",
    "version": 3
   },
   "file_extension": ".py",
   "mimetype": "text/x-python",
   "name": "python",
   "nbconvert_exporter": "python",
   "pygments_lexer": "ipython3",
   "version": "3.6.1"
  }
 },
 "nbformat": 4,
 "nbformat_minor": 2
}
