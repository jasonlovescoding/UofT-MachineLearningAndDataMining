{
 "cells": [
  {
   "cell_type": "code",
   "execution_count": 14,
   "metadata": {
    "collapsed": true
   },
   "outputs": [],
   "source": [
    "import numpy as np\n",
    "from sklearn.datasets import load_boston\n",
    "import matplotlib.pyplot as plt\n",
    "\n",
    "BATCHES = 50"
   ]
  },
  {
   "cell_type": "code",
   "execution_count": 2,
   "metadata": {
    "collapsed": true
   },
   "outputs": [],
   "source": [
    "class BatchSampler(object):\n",
    "    '''\n",
    "    A (very) simple wrapper to randomly sample batches without replacement.\n",
    "\n",
    "    You shouldn't need to touch this.\n",
    "    '''\n",
    "    \n",
    "    def __init__(self, data, targets, batch_size):\n",
    "        self.num_points = data.shape[0]\n",
    "        self.features = data.shape[1]\n",
    "        self.batch_size = batch_size\n",
    "\n",
    "        self.data = data\n",
    "        self.targets = targets\n",
    "\n",
    "        self.indices = np.arange(self.num_points)\n",
    "\n",
    "    def random_batch_indices(self, m=None):\n",
    "        '''\n",
    "        Get random batch indices without replacement from the dataset.\n",
    "\n",
    "        If m is given the batch will be of size m. Otherwise will default to the class initialized value.\n",
    "        '''\n",
    "        if m is None:\n",
    "            indices = np.random.choice(self.indices, self.batch_size, replace=False)\n",
    "        else:\n",
    "            indices = np.random.choice(self.indices, m, replace=False)\n",
    "        return indices \n",
    "\n",
    "    def get_batch(self, m=None):\n",
    "        '''\n",
    "        Get a random batch without replacement from the dataset.\n",
    "\n",
    "        If m is given the batch will be of size m. Otherwise will default to the class initialized value.\n",
    "        '''\n",
    "        indices = self.random_batch_indices(m)\n",
    "        X_batch = np.take(self.data, indices, 0)\n",
    "        y_batch = self.targets[indices]\n",
    "        return X_batch, y_batch "
   ]
  },
  {
   "cell_type": "code",
   "execution_count": 3,
   "metadata": {
    "collapsed": true
   },
   "outputs": [],
   "source": [
    "def load_data_and_init_params():\n",
    "    '''\n",
    "    Load the Boston houses dataset and randomly initialise linear regression weights.\n",
    "    '''\n",
    "    print('------ Loading Boston Houses Dataset ------')\n",
    "    X, y = load_boston(True)\n",
    "    features = X.shape[1]\n",
    "\n",
    "    # Initialize w\n",
    "    w = np.random.randn(features)\n",
    "\n",
    "    print(\"Loaded...\")\n",
    "    print(\"Total data points: {0}\\nFeature count: {1}\".format(X.shape[0], X.shape[1]))\n",
    "    print(\"Random parameters, w: {0}\".format(w))\n",
    "    print('-------------------------------------------\\n\\n\\n')\n",
    "\n",
    "    return X, y, w"
   ]
  },
  {
   "cell_type": "code",
   "execution_count": 4,
   "metadata": {
    "collapsed": true
   },
   "outputs": [],
   "source": [
    "def cosine_similarity(vec1, vec2):\n",
    "    '''\n",
    "    Compute the cosine similarity (cos theta) between two vectors.\n",
    "    '''\n",
    "    dot = np.dot(vec1, vec2)\n",
    "    sum1 = np.sqrt(np.dot(vec1, vec1))\n",
    "    sum2 = np.sqrt(np.dot(vec2, vec2))\n",
    "\n",
    "    return dot / (sum1 * sum2)"
   ]
  },
  {
   "cell_type": "code",
   "execution_count": 5,
   "metadata": {
    "collapsed": true
   },
   "outputs": [],
   "source": [
    "#TODO: implement linear regression gradient\n",
    "def lin_reg_gradient(X, y, w):\n",
    "    '''\n",
    "    Compute gradient of linear regression model parameterized by w\n",
    "    '''\n",
    "    n = X.shape[0]\n",
    "    grad = (2 / n) * (X.T.dot(X).dot(w) - X.T.dot(y))\n",
    "    return grad"
   ]
  },
  {
   "cell_type": "code",
   "execution_count": 6,
   "metadata": {
    "collapsed": true
   },
   "outputs": [],
   "source": [
    "# this is for part 3, question 5\n",
    "def grad_metrics():\n",
    "    # Load data and randomly initialise weights\n",
    "    X, y, w = load_data_and_init_params()\n",
    "    # Create a batch sampler to generate random batches from data\n",
    "    batch_sampler = BatchSampler(X, y, BATCHES)\n",
    "\n",
    "    # Example usage\n",
    "    K = 500\n",
    "    batch_grad = np.zeros(X.shape[1])\n",
    "    for k in range(K):\n",
    "        X_b, y_b = batch_sampler.get_batch()\n",
    "        batch_grad += lin_reg_gradient(X_b, y_b, w)\n",
    "    batch_grad /= K\n",
    "    # gradient from the whole batch\n",
    "    grad = lin_reg_gradient(X, y, w)\n",
    "    # metrics\n",
    "    distance = np.sum((grad - batch_grad)**2)\n",
    "    cosine = np.inner(grad, batch_grad) / (np.linalg.norm(grad) * np.linalg.norm(batch_grad))\n",
    "    \n",
    "    print(\"Distance:\" + str(distance))\n",
    "    print(\"Cosine:\" + str(cosine))"
   ]
  },
  {
   "cell_type": "code",
   "execution_count": 27,
   "metadata": {
    "collapsed": true
   },
   "outputs": [],
   "source": [
    "# this is for part 3, question 6\n",
    "def single_param_variance(j):\n",
    "    # Load data and randomly initialise weights\n",
    "    X, y, w = load_data_and_init_params()\n",
    "    # m in the range [1,400]\n",
    "    m = np.logspace(start=0, stop=np.log(400)/np.log(10), base=10)\n",
    "    logvar = []\n",
    "    for batch_size in m:\n",
    "        # Create a batch sampler to generate random batches from data\n",
    "        batch_sampler = BatchSampler(X, y, int(batch_size))\n",
    "        \n",
    "        # Example usage\n",
    "        K = 500\n",
    "        w_j = []\n",
    "        for k in range(K):\n",
    "            X_b, y_b = batch_sampler.get_batch()\n",
    "            w_j.append(lin_reg_gradient(X_b, y_b, w)[j])\n",
    "        var = np.var(w_j)\n",
    "        logvar.append(np.log(var))\n",
    "    plt.plot(np.log(m), logvar)\n",
    "    plt.xlabel('log(m)')\n",
    "    plt.ylabel('log(var)')\n",
    "    plt.show()"
   ]
  },
  {
   "cell_type": "code",
   "execution_count": 28,
   "metadata": {},
   "outputs": [
    {
     "name": "stdout",
     "output_type": "stream",
     "text": [
      "------ Loading Boston Houses Dataset ------\n",
      "Loaded...\n",
      "Total data points: 506\n",
      "Feature count: 13\n",
      "Random parameters, w: [ 0.31097464 -0.77104338  0.49490159 -0.03276172  2.97894333 -1.64732971\n",
      "  0.48285762 -0.05158521 -0.20934033  1.01311468 -0.52897863  0.93572114\n",
      " -0.03529051]\n",
      "-------------------------------------------\n",
      "\n",
      "\n",
      "\n",
      "Distance:7167617.15175\n",
      "Cosine:0.999997378138\n",
      "------ Loading Boston Houses Dataset ------\n",
      "Loaded...\n",
      "Total data points: 506\n",
      "Feature count: 13\n",
      "Random parameters, w: [-0.12239772 -1.49423403 -1.41219723  1.45676921 -0.9331432  -0.01935483\n",
      "  1.13400765  0.32318788 -0.09767224  1.39222527  0.4026519   0.39587397\n",
      " -0.42047617]\n",
      "-------------------------------------------\n",
      "\n",
      "\n",
      "\n"
     ]
    },
    {
     "data": {
      "image/png": "[encoded data removed]",
      "text/plain": [
       "<matplotlib.figure.Figure at 0x1073d4940>"
      ]
     },
     "metadata": {},
     "output_type": "display_data"
    }
   ],
   "source": [
    "def main():\n",
    "    grad_metrics()\n",
    "    # for q6 we pick j=6 for instance\n",
    "    single_param_variance(6)\n",
    "                         \n",
    "if __name__ == '__main__':\n",
    "    main()"
   ]
  },
  {
   "cell_type": "code",
   "execution_count": null,
   "metadata": {
    "collapsed": true
   },
   "outputs": [],
   "source": []
  }
 ],
 "metadata": {
  "kernelspec": {
   "display_name": "Python 3",
   "language": "python",
   "name": "python3"
  },
  "language_info": {
   "codemirror_mode": {
    "name": "ipython",
    "version": 3
   },
   "file_extension": ".py",
   "mimetype": "text/x-python",
   "name": "python",
   "nbconvert_exporter": "python",
   "pygments_lexer": "ipython3",
   "version": "3.6.1"
  }
 },
 "nbformat": 4,
 "nbformat_minor": 2
}
